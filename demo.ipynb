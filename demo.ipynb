{
 "cells": [
  {
   "cell_type": "markdown",
   "metadata": {},
   "source": [
    "**Daniel Buguks and Srayan Gangopadhyay**  \n",
    "*18 June 2020*\n",
    "\n",
    "# Y1 Project: A framework to visualise charged particle trajectories in electric and magnetic fields\n",
    "\n",
    "## Demonstration notebook\n",
    "\n",
    "Let's start with a really simple example. First, we need to import our module (`y1project`), as well as `numpy`, a useful module for scientific Python.\n",
    "\n",
    "*Click inside the cell below, and then type `CTRL + Enter` to run it.*"
   ]
  },
  {
   "cell_type": "code",
   "execution_count": null,
   "metadata": {},
   "outputs": [],
   "source": [
    "import y1project as pj\n",
    "import numpy as np"
   ]
  },
  {
   "cell_type": "markdown",
   "metadata": {},
   "source": [
    "Our code plots the trajectory of a charged particle in electric and magnetic fields. Let's start with a proton (mass = $1.7 \\times 10^{-27}$, charge = $1.6 \\times 10^{-19}$). We need to assign these values to the variables `m` and `q`."
   ]
  },
  {
   "cell_type": "code",
   "execution_count": null,
   "metadata": {},
   "outputs": [],
   "source": [
    "m = 1.7e-27  # mass\n",
    "q = 1.6e-19  # charge"
   ]
  },
  {
   "cell_type": "markdown",
   "metadata": {},
   "source": [
    "Next, we need to tell our code what the *initial conditions* are. Where is the particle starting from, and how fast is it going? We'll start our proton from the origin, at a reasonably quick initial speed (about 30,000 mph!)."
   ]
  },
  {
   "cell_type": "code",
   "execution_count": null,
   "metadata": {},
   "outputs": [],
   "source": [
    "r0 = [0,0, 0]  # initial position\n",
    "v0 = [1e4, 1e4, 0]  # initial velocity"
   ]
  },
  {
   "cell_type": "markdown",
   "metadata": {},
   "source": [
    "Our code is now going to put these values into the Lorentz force equation, $\\mathbf {F} =q\\,[\\mathbf {E} + (\\mathbf {v} \\times \\mathbf {B})]$, and integrate it to work out the path of the particle.\n",
    "\n",
    "We need to provide a step size (smaller = more precise, but takes longer) and a point at which to stop integrating. We also need to tell the code how big our \"simulation box\" is. If the particle tries to leave this box, it'll reappear at the other side. For now, let's just make it infinitely big."
   ]
  },
  {
   "cell_type": "code",
   "execution_count": null,
   "metadata": {},
   "outputs": [],
   "source": [
    "h = 0.2  # step size\n",
    "end = 200  # t-value to stop integration\n",
    "size = [np.inf, np.inf, np.inf]  # simulation dimensions"
   ]
  },
  {
   "cell_type": "markdown",
   "metadata": {},
   "source": [
    "The last thing we need to define is the electric and magnetic fields. We'll start with a constant magnetic field in the y direction, and no electric field."
   ]
  },
  {
   "cell_type": "code",
   "execution_count": null,
   "metadata": {},
   "outputs": [],
   "source": [
    "def B_field(r):\n",
    "    \"\"\"Returns the components of the magnetic\n",
    "    field, given a 3D position vector.\"\"\"\n",
    "    return [0, 1e-9, 0]\n",
    "\n",
    "def E_field(r):\n",
    "    \"\"\"Returns the components of the electric\n",
    "    field, given a 3D position vector.\"\"\"\n",
    "    return [0,0,0]"
   ]
  },
  {
   "cell_type": "markdown",
   "metadata": {},
   "source": [
    "Now we're ready to pass all these parameters into the integration function provided by the `y1project` module. This'll give us the position of the particle over time, which we can then plot in 3D and animate."
   ]
  },
  {
   "cell_type": "code",
   "execution_count": null,
   "metadata": {},
   "outputs": [],
   "source": [
    "r, v = pj.rk4(pj.lorentz, r0, v0, h, end, E_field, B_field, q, m, size)\n",
    "pj.plot_or_anim(r, int((end/h)/100), *pj.plotsetup(r), anim=True)"
   ]
  },
  {
   "cell_type": "markdown",
   "metadata": {},
   "source": [
    "You should see that the proton is circling along the direction of the magnetic field. What happens if we make the field 10x stronger? (We'll need a smaller step size for this.)"
   ]
  },
  {
   "cell_type": "code",
   "execution_count": null,
   "metadata": {},
   "outputs": [],
   "source": [
    "h = 0.05  # step size\n",
    "\n",
    "def B_field(r):\n",
    "    \"\"\"Returns the components of the magnetic\n",
    "    field, given a 3D position vector.\"\"\"\n",
    "    return [0, 1e-8, 0]\n",
    "\n",
    "r, v = pj.rk4(pj.lorentz, r0, v0, h, end, E_field, B_field, q, m, size)\n",
    "pj.plot_or_anim(r, int((end/h)/100), *pj.plotsetup(r), anim=True)"
   ]
  },
  {
   "cell_type": "markdown",
   "metadata": {},
   "source": [
    "More loops!\n",
    "\n",
    "Let's go back to the original magnetic field, and add an electric field."
   ]
  },
  {
   "cell_type": "code",
   "execution_count": null,
   "metadata": {},
   "outputs": [],
   "source": [
    "h = 0.2  # step size\n",
    "end = 400  # t-value to stop integration\n",
    "\n",
    "def B_field(r):\n",
    "    \"\"\"Returns the components of the magnetic\n",
    "    field, given a 3D position vector.\"\"\"\n",
    "    return [0, 1e-9, 0]\n",
    "\n",
    "def E_field(r):\n",
    "    \"\"\"Returns the components of the electric\n",
    "    field, given a 3D position vector.\"\"\"\n",
    "    return [0,1,0]\n",
    "\n",
    "r, v = pj.rk4(pj.lorentz, r0, v0, h, end, E_field, B_field, q, m, size)\n",
    "pj.plot_or_anim(r, int((end/h)/100), *pj.plotsetup(r), anim=True)"
   ]
  },
  {
   "cell_type": "markdown",
   "metadata": {},
   "source": [
    "The proton is accelerated by the electric field, so the loops become more spaced out along the proton's path.\n",
    "\n",
    "Here are a few other random examples:"
   ]
  },
  {
   "cell_type": "code",
   "execution_count": null,
   "metadata": {},
   "outputs": [],
   "source": [
    "r0 = [0, 0, 0]  # initial position\n",
    "v0 = [8e5, 1e4, 8e5]  # initial velocity\n",
    "q, m = 1.6e-19, 1.67e-27  # charge, mass\n",
    "h = 1e-10  # step size\n",
    "end = 6e-7  # t-value to stop integration\n",
    "size = [np.inf,np.inf,np.inf]  # simulation dimensions\n",
    "\n",
    "def B_field(r):\n",
    "    \"\"\"Returns the components of the magnetic\n",
    "    field, given a 3D position vector.\"\"\"\n",
    "    return [0,0.8,0]\n",
    "\n",
    "\n",
    "def E_field(r):\n",
    "    \"\"\"Returns the components of the electric\n",
    "    field, given a 3D position vector.\"\"\"\n",
    "    return [2.5e6, 0, 0]\n",
    "\n",
    "\n",
    "r, v = pj.rk4(pj.lorentz, r0, v0, h, end, E_field, B_field, q, m, size)\n",
    "pj.plot_or_anim(r, int((end/h)/100), *pj.plotsetup(r), anim=True)"
   ]
  },
  {
   "cell_type": "code",
   "execution_count": null,
   "metadata": {},
   "outputs": [],
   "source": [
    "r0 = [1e7,1e7, 0]  # initial position\n",
    "v0 = [1e7, 1e7, 0]  # initial velocity\n",
    "q = 1.6e-19  # charge\n",
    "m = 1.7e-27  # mass\n",
    "h = 0.01  # step size\n",
    "end = 20  # t-value to stop integration\n",
    "size = [1e10, 1e10, 3e6]  # simulation dimensions\n",
    "\n",
    "def B_field(r):\n",
    "    \"\"\"Returns the components of the magnetic\n",
    "    field, given a 3D position vector.\"\"\"\n",
    "    if 2e6 <= r[2]:\n",
    "        return [1e-9, 1e-16, 1e-14*r[2]]\n",
    "    else:\n",
    "        return [1e-9, 1e-16, 2e-8]\n",
    "\n",
    "def E_field(r):\n",
    "    \"\"\"Returns the components of the electric\n",
    "    field, given a 3D position vector.\"\"\"\n",
    "    return [0,0,0]\n",
    "\n",
    "r, v = pj.rk4(pj.lorentz, r0, v0, h, end, E_field, B_field, q, m, size)\n",
    "pj.plot_or_anim(r, int((end/h)/100), *pj.plotsetup(r), anim=True)\n",
    "pj.printout(r, v)"
   ]
  },
  {
   "cell_type": "code",
   "execution_count": null,
   "metadata": {},
   "outputs": [],
   "source": [
    "r0 = [1e7,1e7, 0]  # initial position\n",
    "v0 = [1e7, 1e7, 0]  # initial velocity\n",
    "q, m = 1.6e-19, 1.67e-27  # charge, mass\n",
    "h = 0.01  # step size\n",
    "end = 50  # t-value to stop integration\n",
    "size = [1e8,1e8,1e10]  # simulation dimensions\n",
    "\n",
    "def B_field(r):\n",
    "    \"\"\"Returns the components of the magnetic\n",
    "    field, given a 3D position vector.\"\"\"\n",
    "    if 2e6 <= r[2]:\n",
    "        return [1e-9, 1e-16, 1e-14*r[2]]\n",
    "    else:\n",
    "        return [1e-9, 1e-16, 2e-8]\n",
    "\n",
    "r, v = pj.rk4(pj.lorentz, r0, v0, h, end, E_field, B_field, q, m, size)\n",
    "pj.plot_or_anim(r, int((end/h)/100), *pj.plotsetup(r), anim=True)\n",
    "pj.printout(r, v)"
   ]
  },
  {
   "cell_type": "markdown",
   "metadata": {},
   "source": [
    "So, how does the `y1project` module actually work? You can see the Python file [by clicking here](https://raw.githubusercontent.com/sgango/Y1-Project/master/y1project.py).\n",
    "\n",
    "Now, for the final showstopper, we'll try something really exciting.  \n",
    "We know the equation for the magnetic field around Earth, so let's put that into our simulation and fire a proton towards Earth's surface.  \n",
    "(This might take a few seconds to run, but it'll be worth it! We're not going to animate this one, because that takes *forever*.)"
   ]
  },
  {
   "cell_type": "code",
   "execution_count": null,
   "metadata": {},
   "outputs": [],
   "source": [
    "# PARAMETERS\n",
    "r0 = [2.6e7,0, 0]  # initial position\n",
    "v0 = [0, 2.2e7, 3.8e7]  # initial velocity\n",
    "q = 1.6e-19  # charge\n",
    "m = 1.7e-27  # mass\n",
    "h = 0.003  # step size\n",
    "end = 100  # t-value to stop integration\n",
    "size = [np.inf, np.inf, np.inf]  # simulation dimensions\n",
    "\n",
    "def B_field(r):\n",
    "    \"\"\"Returns the components of the magnetic\n",
    "    field, given a 3D position vector.\"\"\"\n",
    "    # EARTH'S DIPOLE FIELD\n",
    "    x, y, z = r[0], r[1], r[2]\n",
    "    B0 = 3.1e-5\n",
    "    Re = 6.4e6\n",
    "    scale =  (-B0 * Re**3) / np.linalg.norm(r)**5\n",
    "    return [scale*3*x*z, scale*3*y*z, scale*(2*z*z -x*x- y*y)]\n",
    "\n",
    "def E_field(r):\n",
    "    \"\"\"Returns the components of the electric\n",
    "    field, given a 3D position vector.\"\"\"\n",
    "    return [0,0,0]\n",
    "\n",
    "r, v = pj.rk4(pj.lorentz, r0, v0, h, end, E_field, B_field, q, m, size)\n",
    "pj.plot_or_anim(r, int((end/h)/100), *pj.plotsetup(r), anim=False)\n",
    "pj.printout(r, v)"
   ]
  },
  {
   "cell_type": "markdown",
   "metadata": {},
   "source": [
    "How cool is that?!"
   ]
  }
 ],
 "metadata": {
  "kernelspec": {
   "display_name": "Python 3",
   "language": "python",
   "name": "python3"
  },
  "language_info": {
   "codemirror_mode": {
    "name": "ipython",
    "version": 3
   },
   "file_extension": ".py",
   "mimetype": "text/x-python",
   "name": "python",
   "nbconvert_exporter": "python",
   "pygments_lexer": "ipython3",
   "version": "3.7.7"
  }
 },
 "nbformat": 4,
 "nbformat_minor": 4
}
